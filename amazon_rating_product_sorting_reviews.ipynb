{
  "nbformat": 4,
  "nbformat_minor": 0,
  "metadata": {
    "colab": {
      "name": "amazon-rating-product.ipynb",
      "provenance": [],
      "collapsed_sections": [],
      "authorship_tag": "ABX9TyOBBFTXwWX2kQShZGcEAjJD"
    },
    "kernelspec": {
      "name": "python3",
      "display_name": "Python 3"
    }
  },
  "cells": [
    {
      "cell_type": "code",
      "metadata": {
        "colab": {
          "base_uri": "https://localhost:8080/"
        },
        "id": "Cf5Easus_mg4",
        "outputId": "8e2dbd6a-3f1f-4812-d2e6-a6697a17bc22"
      },
      "source": [
        "from google.colab import drive\r\n",
        "drive.mount('/content/gdrive')"
      ],
      "execution_count": null,
      "outputs": [
        {
          "output_type": "stream",
          "text": [
            "Drive already mounted at /content/gdrive; to attempt to forcibly remount, call drive.mount(\"/content/gdrive\", force_remount=True).\n"
          ],
          "name": "stdout"
        }
      ]
    },
    {
      "cell_type": "code",
      "metadata": {
        "colab": {
          "base_uri": "https://localhost:8080/"
        },
        "id": "KuUVaq4VAK4q",
        "outputId": "438f0cfa-6c27-46d3-f279-863030fc0250"
      },
      "source": [
        "%cd /content/gdrive/My Drive/datasets"
      ],
      "execution_count": null,
      "outputs": [
        {
          "output_type": "stream",
          "text": [
            "/content/gdrive/My Drive/datasets\n"
          ],
          "name": "stdout"
        }
      ]
    },
    {
      "cell_type": "code",
      "metadata": {
        "id": "mtwWxwiK_dA9"
      },
      "source": [
        "import pandas as pd\r\n",
        "import matplotlib.pyplot as plt\r\n",
        "import seaborn as sns\r\n",
        "import scipy.stats as st\r\n",
        "import math\r\n"
      ],
      "execution_count": null,
      "outputs": []
    },
    {
      "cell_type": "markdown",
      "metadata": {
        "id": "nHZYDyLDDYSk"
      },
      "source": [
        "## **RATING PRODUCT AND SORTING REVIEWS IN AMAZON**"
      ]
    },
    {
      "cell_type": "markdown",
      "metadata": {
        "id": "b0y6twTyE9s6"
      },
      "source": [
        "Days between 2012-06-09 and 2014-07-23 of [Amazon Product Review Data](https://snap.stanford.edu/data/amazon/productGraph/) used for this project. \r\n",
        "\r\n",
        "\r\n",
        "\r\n",
        "**Understanding Data**\r\n",
        "\r\n",
        "**reviewerID:** User ID.\r\n",
        "\r\n",
        "**asin:** Product ID.\r\n",
        "\r\n",
        "**reviewerName:** Username\r\n",
        "\r\n",
        "**helpful:** helpfulness of the review - [2,4]\r\n",
        "\r\n",
        "**reviewText:** review of the users\r\n",
        "\r\n",
        "**overall:** Product rating\r\n",
        "\r\n",
        "**summary:** Review summary\r\n",
        "\r\n",
        "**unixReviewTime:** Review time (Unix time)\r\n",
        "\r\n",
        "**reviewTime:** Review time (raw)\r\n",
        "\r\n",
        "\r\n"
      ]
    },
    {
      "cell_type": "markdown",
      "metadata": {
        "id": "qH7vUCW9DqYl"
      },
      "source": [
        "### **GOALS:**\r\n",
        "\r\n",
        "1.   to calculate product ratings more accurately\r\n",
        "2.   to sort product reviews with a better strategy, Wilson Lower bound Score \r\n"
      ]
    },
    {
      "cell_type": "code",
      "metadata": {
        "id": "krA1c9_mAPto"
      },
      "source": [
        "df_ = pd.read_csv(\"df_sub.csv\")"
      ],
      "execution_count": null,
      "outputs": []
    },
    {
      "cell_type": "code",
      "metadata": {
        "id": "9oKEgEJd-SKP"
      },
      "source": [
        "df = df_.copy()"
      ],
      "execution_count": null,
      "outputs": []
    },
    {
      "cell_type": "code",
      "metadata": {
        "colab": {
          "base_uri": "https://localhost:8080/",
          "height": 272
        },
        "id": "DvTodedgA7rk",
        "outputId": "e00fde81-b55e-4380-fa5c-8a4fc845e371"
      },
      "source": [
        "df.head()"
      ],
      "execution_count": null,
      "outputs": [
        {
          "output_type": "execute_result",
          "data": {
            "text/html": [
              "<div>\n",
              "<style scoped>\n",
              "    .dataframe tbody tr th:only-of-type {\n",
              "        vertical-align: middle;\n",
              "    }\n",
              "\n",
              "    .dataframe tbody tr th {\n",
              "        vertical-align: top;\n",
              "    }\n",
              "\n",
              "    .dataframe thead th {\n",
              "        text-align: right;\n",
              "    }\n",
              "</style>\n",
              "<table border=\"1\" class=\"dataframe\">\n",
              "  <thead>\n",
              "    <tr style=\"text-align: right;\">\n",
              "      <th></th>\n",
              "      <th>reviewerID</th>\n",
              "      <th>asin</th>\n",
              "      <th>reviewerName</th>\n",
              "      <th>helpful</th>\n",
              "      <th>reviewText</th>\n",
              "      <th>overall</th>\n",
              "      <th>summary</th>\n",
              "      <th>unixReviewTime</th>\n",
              "      <th>reviewTime</th>\n",
              "    </tr>\n",
              "  </thead>\n",
              "  <tbody>\n",
              "    <tr>\n",
              "      <th>0</th>\n",
              "      <td>A3SBTW3WS4IQSN</td>\n",
              "      <td>B007WTAJTO</td>\n",
              "      <td>NaN</td>\n",
              "      <td>[0, 0]</td>\n",
              "      <td>No issues.</td>\n",
              "      <td>4.0</td>\n",
              "      <td>Four Stars</td>\n",
              "      <td>1406073600</td>\n",
              "      <td>07 23, 2014</td>\n",
              "    </tr>\n",
              "    <tr>\n",
              "      <th>1</th>\n",
              "      <td>A18K1ODH1I2MVB</td>\n",
              "      <td>B007WTAJTO</td>\n",
              "      <td>0mie</td>\n",
              "      <td>[0, 0]</td>\n",
              "      <td>Purchased this for my device, it worked as adv...</td>\n",
              "      <td>5.0</td>\n",
              "      <td>MOAR SPACE!!!</td>\n",
              "      <td>1382659200</td>\n",
              "      <td>10 25, 2013</td>\n",
              "    </tr>\n",
              "    <tr>\n",
              "      <th>2</th>\n",
              "      <td>A2FII3I2MBMUIA</td>\n",
              "      <td>B007WTAJTO</td>\n",
              "      <td>1K3</td>\n",
              "      <td>[0, 0]</td>\n",
              "      <td>it works as expected. I should have sprung for...</td>\n",
              "      <td>4.0</td>\n",
              "      <td>nothing to really say....</td>\n",
              "      <td>1356220800</td>\n",
              "      <td>12 23, 2012</td>\n",
              "    </tr>\n",
              "    <tr>\n",
              "      <th>3</th>\n",
              "      <td>A3H99DFEG68SR</td>\n",
              "      <td>B007WTAJTO</td>\n",
              "      <td>1m2</td>\n",
              "      <td>[0, 0]</td>\n",
              "      <td>This think has worked out great.Had a diff. br...</td>\n",
              "      <td>5.0</td>\n",
              "      <td>Great buy at this price!!!  *** UPDATE</td>\n",
              "      <td>1384992000</td>\n",
              "      <td>11 21, 2013</td>\n",
              "    </tr>\n",
              "    <tr>\n",
              "      <th>4</th>\n",
              "      <td>A375ZM4U047O79</td>\n",
              "      <td>B007WTAJTO</td>\n",
              "      <td>2&amp;amp;1/2Men</td>\n",
              "      <td>[0, 0]</td>\n",
              "      <td>Bought it with Retail Packaging, arrived legit...</td>\n",
              "      <td>5.0</td>\n",
              "      <td>best deal around</td>\n",
              "      <td>1373673600</td>\n",
              "      <td>07 13, 2013</td>\n",
              "    </tr>\n",
              "  </tbody>\n",
              "</table>\n",
              "</div>"
            ],
            "text/plain": [
              "       reviewerID        asin  ... unixReviewTime   reviewTime\n",
              "0  A3SBTW3WS4IQSN  B007WTAJTO  ...     1406073600  07 23, 2014\n",
              "1  A18K1ODH1I2MVB  B007WTAJTO  ...     1382659200  10 25, 2013\n",
              "2  A2FII3I2MBMUIA  B007WTAJTO  ...     1356220800  12 23, 2012\n",
              "3   A3H99DFEG68SR  B007WTAJTO  ...     1384992000  11 21, 2013\n",
              "4  A375ZM4U047O79  B007WTAJTO  ...     1373673600  07 13, 2013\n",
              "\n",
              "[5 rows x 9 columns]"
            ]
          },
          "metadata": {
            "tags": []
          },
          "execution_count": 6
        }
      ]
    },
    {
      "cell_type": "code",
      "metadata": {
        "colab": {
          "base_uri": "https://localhost:8080/",
          "height": 111
        },
        "id": "fDffkZcmBBG-",
        "outputId": "f7a21df3-6341-434a-fa3c-2982b253e5c2"
      },
      "source": [
        "df.describe().T"
      ],
      "execution_count": null,
      "outputs": [
        {
          "output_type": "execute_result",
          "data": {
            "text/html": [
              "<div>\n",
              "<style scoped>\n",
              "    .dataframe tbody tr th:only-of-type {\n",
              "        vertical-align: middle;\n",
              "    }\n",
              "\n",
              "    .dataframe tbody tr th {\n",
              "        vertical-align: top;\n",
              "    }\n",
              "\n",
              "    .dataframe thead th {\n",
              "        text-align: right;\n",
              "    }\n",
              "</style>\n",
              "<table border=\"1\" class=\"dataframe\">\n",
              "  <thead>\n",
              "    <tr style=\"text-align: right;\">\n",
              "      <th></th>\n",
              "      <th>count</th>\n",
              "      <th>mean</th>\n",
              "      <th>std</th>\n",
              "      <th>min</th>\n",
              "      <th>25%</th>\n",
              "      <th>50%</th>\n",
              "      <th>75%</th>\n",
              "      <th>max</th>\n",
              "    </tr>\n",
              "  </thead>\n",
              "  <tbody>\n",
              "    <tr>\n",
              "      <th>overall</th>\n",
              "      <td>4915.0</td>\n",
              "      <td>4.587589e+00</td>\n",
              "      <td>9.968451e-01</td>\n",
              "      <td>1.000000e+00</td>\n",
              "      <td>5.000000e+00</td>\n",
              "      <td>5.000000e+00</td>\n",
              "      <td>5.000000e+00</td>\n",
              "      <td>5.000000e+00</td>\n",
              "    </tr>\n",
              "    <tr>\n",
              "      <th>unixReviewTime</th>\n",
              "      <td>4915.0</td>\n",
              "      <td>1.379465e+09</td>\n",
              "      <td>1.581857e+07</td>\n",
              "      <td>1.339200e+09</td>\n",
              "      <td>1.365898e+09</td>\n",
              "      <td>1.381277e+09</td>\n",
              "      <td>1.392163e+09</td>\n",
              "      <td>1.406074e+09</td>\n",
              "    </tr>\n",
              "  </tbody>\n",
              "</table>\n",
              "</div>"
            ],
            "text/plain": [
              "                 count          mean  ...           75%           max\n",
              "overall         4915.0  4.587589e+00  ...  5.000000e+00  5.000000e+00\n",
              "unixReviewTime  4915.0  1.379465e+09  ...  1.392163e+09  1.406074e+09\n",
              "\n",
              "[2 rows x 8 columns]"
            ]
          },
          "metadata": {
            "tags": []
          },
          "execution_count": 7
        }
      ]
    },
    {
      "cell_type": "code",
      "metadata": {
        "colab": {
          "base_uri": "https://localhost:8080/"
        },
        "id": "9y_8BJy-DFw8",
        "outputId": "355d544e-c439-4094-9e93-bfbfd8fdbeb8"
      },
      "source": [
        "df[\"overall\"].mean()  # average score of the product"
      ],
      "execution_count": null,
      "outputs": [
        {
          "output_type": "execute_result",
          "data": {
            "text/plain": [
              "4.587589013224822"
            ]
          },
          "metadata": {
            "tags": []
          },
          "execution_count": 8
        }
      ]
    },
    {
      "cell_type": "markdown",
      "metadata": {
        "id": "hFCGnO01RRHx"
      },
      "source": [
        "**Calculate Weighted Average Point of Product according to the Date of Review**"
      ]
    },
    {
      "cell_type": "code",
      "metadata": {
        "colab": {
          "base_uri": "https://localhost:8080/"
        },
        "id": "gXKk-j5mP7h8",
        "outputId": "1edf9a08-0b8d-4da6-df0c-5a825db34115"
      },
      "source": [
        "df['reviewTime'] = pd.to_datetime(df['reviewTime'], dayfirst=False)\r\n",
        "df['reviewTime'].min()"
      ],
      "execution_count": null,
      "outputs": [
        {
          "output_type": "execute_result",
          "data": {
            "text/plain": [
              "Timestamp('2012-06-09 00:00:00')"
            ]
          },
          "metadata": {
            "tags": []
          },
          "execution_count": 9
        }
      ]
    },
    {
      "cell_type": "code",
      "metadata": {
        "colab": {
          "base_uri": "https://localhost:8080/"
        },
        "id": "ac_LdYDNRsiC",
        "outputId": "88e736e8-54a4-44ab-ff16-2bcff83805a3"
      },
      "source": [
        "df['reviewTime'].max()"
      ],
      "execution_count": null,
      "outputs": [
        {
          "output_type": "execute_result",
          "data": {
            "text/plain": [
              "Timestamp('2014-07-23 00:00:00')"
            ]
          },
          "metadata": {
            "tags": []
          },
          "execution_count": 10
        }
      ]
    },
    {
      "cell_type": "code",
      "metadata": {
        "colab": {
          "base_uri": "https://localhost:8080/",
          "height": 272
        },
        "id": "5Z-BAm-6R307",
        "outputId": "a4bbf98c-4db6-4e43-c1c5-695252ac19ca"
      },
      "source": [
        "current_date = pd.to_datetime('2021-02-19 0:0:0')\r\n",
        "df[\"day_diff\"] = (current_date - df['reviewTime']).dt.days\r\n",
        "df.head()"
      ],
      "execution_count": null,
      "outputs": [
        {
          "output_type": "execute_result",
          "data": {
            "text/html": [
              "<div>\n",
              "<style scoped>\n",
              "    .dataframe tbody tr th:only-of-type {\n",
              "        vertical-align: middle;\n",
              "    }\n",
              "\n",
              "    .dataframe tbody tr th {\n",
              "        vertical-align: top;\n",
              "    }\n",
              "\n",
              "    .dataframe thead th {\n",
              "        text-align: right;\n",
              "    }\n",
              "</style>\n",
              "<table border=\"1\" class=\"dataframe\">\n",
              "  <thead>\n",
              "    <tr style=\"text-align: right;\">\n",
              "      <th></th>\n",
              "      <th>reviewerID</th>\n",
              "      <th>asin</th>\n",
              "      <th>reviewerName</th>\n",
              "      <th>helpful</th>\n",
              "      <th>reviewText</th>\n",
              "      <th>overall</th>\n",
              "      <th>summary</th>\n",
              "      <th>unixReviewTime</th>\n",
              "      <th>reviewTime</th>\n",
              "      <th>day_diff</th>\n",
              "    </tr>\n",
              "  </thead>\n",
              "  <tbody>\n",
              "    <tr>\n",
              "      <th>0</th>\n",
              "      <td>A3SBTW3WS4IQSN</td>\n",
              "      <td>B007WTAJTO</td>\n",
              "      <td>NaN</td>\n",
              "      <td>[0, 0]</td>\n",
              "      <td>No issues.</td>\n",
              "      <td>4.0</td>\n",
              "      <td>Four Stars</td>\n",
              "      <td>1406073600</td>\n",
              "      <td>2014-07-23</td>\n",
              "      <td>2403</td>\n",
              "    </tr>\n",
              "    <tr>\n",
              "      <th>1</th>\n",
              "      <td>A18K1ODH1I2MVB</td>\n",
              "      <td>B007WTAJTO</td>\n",
              "      <td>0mie</td>\n",
              "      <td>[0, 0]</td>\n",
              "      <td>Purchased this for my device, it worked as adv...</td>\n",
              "      <td>5.0</td>\n",
              "      <td>MOAR SPACE!!!</td>\n",
              "      <td>1382659200</td>\n",
              "      <td>2013-10-25</td>\n",
              "      <td>2674</td>\n",
              "    </tr>\n",
              "    <tr>\n",
              "      <th>2</th>\n",
              "      <td>A2FII3I2MBMUIA</td>\n",
              "      <td>B007WTAJTO</td>\n",
              "      <td>1K3</td>\n",
              "      <td>[0, 0]</td>\n",
              "      <td>it works as expected. I should have sprung for...</td>\n",
              "      <td>4.0</td>\n",
              "      <td>nothing to really say....</td>\n",
              "      <td>1356220800</td>\n",
              "      <td>2012-12-23</td>\n",
              "      <td>2980</td>\n",
              "    </tr>\n",
              "    <tr>\n",
              "      <th>3</th>\n",
              "      <td>A3H99DFEG68SR</td>\n",
              "      <td>B007WTAJTO</td>\n",
              "      <td>1m2</td>\n",
              "      <td>[0, 0]</td>\n",
              "      <td>This think has worked out great.Had a diff. br...</td>\n",
              "      <td>5.0</td>\n",
              "      <td>Great buy at this price!!!  *** UPDATE</td>\n",
              "      <td>1384992000</td>\n",
              "      <td>2013-11-21</td>\n",
              "      <td>2647</td>\n",
              "    </tr>\n",
              "    <tr>\n",
              "      <th>4</th>\n",
              "      <td>A375ZM4U047O79</td>\n",
              "      <td>B007WTAJTO</td>\n",
              "      <td>2&amp;amp;1/2Men</td>\n",
              "      <td>[0, 0]</td>\n",
              "      <td>Bought it with Retail Packaging, arrived legit...</td>\n",
              "      <td>5.0</td>\n",
              "      <td>best deal around</td>\n",
              "      <td>1373673600</td>\n",
              "      <td>2013-07-13</td>\n",
              "      <td>2778</td>\n",
              "    </tr>\n",
              "  </tbody>\n",
              "</table>\n",
              "</div>"
            ],
            "text/plain": [
              "       reviewerID        asin  ... reviewTime day_diff\n",
              "0  A3SBTW3WS4IQSN  B007WTAJTO  ... 2014-07-23     2403\n",
              "1  A18K1ODH1I2MVB  B007WTAJTO  ... 2013-10-25     2674\n",
              "2  A2FII3I2MBMUIA  B007WTAJTO  ... 2012-12-23     2980\n",
              "3   A3H99DFEG68SR  B007WTAJTO  ... 2013-11-21     2647\n",
              "4  A375ZM4U047O79  B007WTAJTO  ... 2013-07-13     2778\n",
              "\n",
              "[5 rows x 10 columns]"
            ]
          },
          "metadata": {
            "tags": []
          },
          "execution_count": 12
        }
      ]
    },
    {
      "cell_type": "code",
      "metadata": {
        "id": "neuODgnXShxu"
      },
      "source": [
        "\r\n",
        "a = df[\"day_diff\"].quantile(0.25)\r\n",
        "b = df[\"day_diff\"].quantile(0.50)\r\n",
        "c = df[\"day_diff\"].quantile(0.75)"
      ],
      "execution_count": null,
      "outputs": []
    },
    {
      "cell_type": "code",
      "metadata": {
        "colab": {
          "base_uri": "https://localhost:8080/",
          "height": 35
        },
        "id": "hG63fit3TCks",
        "outputId": "0f2b6cb4-9d30-4e23-c3d7-5799e869cdd1"
      },
      "source": [
        "f\"a = {a}, b= {b}, c={c}\""
      ],
      "execution_count": null,
      "outputs": [
        {
          "output_type": "execute_result",
          "data": {
            "application/vnd.google.colaboratory.intrinsic+json": {
              "type": "string"
            },
            "text/plain": [
              "'a = 2564.0, b= 2690.0, c=2868.0'"
            ]
          },
          "metadata": {
            "tags": []
          },
          "execution_count": 22
        }
      ]
    },
    {
      "cell_type": "markdown",
      "metadata": {
        "id": "UKcgRMwTZ_lV"
      },
      "source": [
        "Average Point Before : **4.587**\r\n",
        "\r\n",
        "New Average Point of Product is **4.63**"
      ]
    },
    {
      "cell_type": "code",
      "metadata": {
        "colab": {
          "base_uri": "https://localhost:8080/"
        },
        "id": "QsNb5wtXTFLN",
        "outputId": "5fcac3ec-1a31-4282-8735-e9424ad32d70"
      },
      "source": [
        "\r\n",
        "df.loc[df[\"day_diff\"] <= a, \"overall\"].mean() * 40 / 100 + \\\r\n",
        "df.loc[(df[\"day_diff\"] > a) & (df[\"day_diff\"] <= b), \"overall\"].mean() * 30 / 100 + \\\r\n",
        "df.loc[(df[\"day_diff\"] > b) & (df[\"day_diff\"] <= c), \"overall\"].mean() * 20 / 100 + \\\r\n",
        "df.loc[(df[\"day_diff\"] > c), \"overall\"].mean() * 10 / 100\r\n"
      ],
      "execution_count": null,
      "outputs": [
        {
          "output_type": "execute_result",
          "data": {
            "text/plain": [
              "4.631733391912294"
            ]
          },
          "metadata": {
            "tags": []
          },
          "execution_count": 23
        }
      ]
    },
    {
      "cell_type": "markdown",
      "metadata": {
        "id": "vIAWhHKfa7AA"
      },
      "source": [
        "Let's choose top 20 comments of the product by using 'helpful' feature. **[positive vote, total vote]**"
      ]
    },
    {
      "cell_type": "code",
      "metadata": {
        "colab": {
          "base_uri": "https://localhost:8080/"
        },
        "id": "60nTLBbZZwri",
        "outputId": "8c6d2fc1-8da8-4831-f00e-c94f93494b1d"
      },
      "source": [
        "df[\"helpful\"].value_counts()"
      ],
      "execution_count": null,
      "outputs": [
        {
          "output_type": "execute_result",
          "data": {
            "text/plain": [
              "[0, 0]          4360\n",
              "[1, 1]           266\n",
              "[0, 1]           114\n",
              "[1, 2]            46\n",
              "[2, 2]            28\n",
              "[0, 2]            22\n",
              "[1, 3]             9\n",
              "[3, 3]             7\n",
              "[0, 3]             6\n",
              "[4, 4]             5\n",
              "[3, 4]             5\n",
              "[5, 5]             5\n",
              "[3, 5]             4\n",
              "[6, 8]             3\n",
              "[6, 7]             3\n",
              "[4, 5]             3\n",
              "[2, 3]             3\n",
              "[7, 7]             2\n",
              "[51, 65]           1\n",
              "[1, 7]             1\n",
              "[5, 6]             1\n",
              "[45, 49]           1\n",
              "[14, 16]           1\n",
              "[1, 5]             1\n",
              "[60, 68]           1\n",
              "[422, 495]         1\n",
              "[1568, 1694]       1\n",
              "[5, 7]             1\n",
              "[53, 236]          1\n",
              "[4, 6]             1\n",
              "[2, 4]             1\n",
              "[22, 25]           1\n",
              "[6, 6]             1\n",
              "[112, 139]         1\n",
              "[82, 109]          1\n",
              "[15, 21]           1\n",
              "[4, 13]            1\n",
              "[38, 48]           1\n",
              "[1428, 1505]       1\n",
              "[8, 10]            1\n",
              "[1952, 2020]       1\n",
              "[8, 118]           1\n",
              "Name: helpful, dtype: int64"
            ]
          },
          "metadata": {
            "tags": []
          },
          "execution_count": 29
        }
      ]
    },
    {
      "cell_type": "code",
      "metadata": {
        "id": "wqeaC-r9bGDx"
      },
      "source": [
        "df[\"helpful\"] = df[\"helpful\"].str[1:-1].str.split(',').to_list()"
      ],
      "execution_count": null,
      "outputs": []
    },
    {
      "cell_type": "code",
      "metadata": {
        "id": "5yao-RIzbttr"
      },
      "source": [
        "df[\"helpful_yes\"] = [int(i[0]) for i in df['helpful']]\r\n",
        "df[\"helpful_no\"] = [(int(i[1]) - int(i[0])) for i in df['helpful']]\r\n",
        "df[\"total_vote\"] = [int(i[1]) for i in df['helpful']]"
      ],
      "execution_count": null,
      "outputs": []
    },
    {
      "cell_type": "code",
      "metadata": {
        "id": "8k4ldelkcPy4"
      },
      "source": [
        "df[\"score_pos_neg_diff\"] = df[\"helpful_yes\"] - df[\"helpful_no\"]"
      ],
      "execution_count": null,
      "outputs": []
    },
    {
      "cell_type": "code",
      "metadata": {
        "id": "AcfAQ-F5cTTi"
      },
      "source": [
        "def score_average_rating(pos, neg):\r\n",
        "    if pos + neg == 0:\r\n",
        "        return 0\r\n",
        "    return pos / (pos + neg)"
      ],
      "execution_count": null,
      "outputs": []
    },
    {
      "cell_type": "code",
      "metadata": {
        "id": "rHTrmRZccUPD"
      },
      "source": [
        "df[\"score_average_rating\"] = df.apply(lambda x: score_average_rating(x['helpful_yes'], x['total_vote']), axis=1)"
      ],
      "execution_count": null,
      "outputs": []
    },
    {
      "cell_type": "code",
      "metadata": {
        "colab": {
          "base_uri": "https://localhost:8080/",
          "height": 359
        },
        "id": "pNz8K4ZHcdcZ",
        "outputId": "ebc10439-bbc6-4d63-efc4-34260119f60b"
      },
      "source": [
        "df[['overall', 'score_average_rating']].sort_values(by='score_average_rating', ascending=False).head(10)"
      ],
      "execution_count": null,
      "outputs": [
        {
          "output_type": "execute_result",
          "data": {
            "text/html": [
              "<div>\n",
              "<style scoped>\n",
              "    .dataframe tbody tr th:only-of-type {\n",
              "        vertical-align: middle;\n",
              "    }\n",
              "\n",
              "    .dataframe tbody tr th {\n",
              "        vertical-align: top;\n",
              "    }\n",
              "\n",
              "    .dataframe thead th {\n",
              "        text-align: right;\n",
              "    }\n",
              "</style>\n",
              "<table border=\"1\" class=\"dataframe\">\n",
              "  <thead>\n",
              "    <tr style=\"text-align: right;\">\n",
              "      <th></th>\n",
              "      <th>overall</th>\n",
              "      <th>score_average_rating</th>\n",
              "    </tr>\n",
              "  </thead>\n",
              "  <tbody>\n",
              "    <tr>\n",
              "      <th>4277</th>\n",
              "      <td>5.0</td>\n",
              "      <td>0.5</td>\n",
              "    </tr>\n",
              "    <tr>\n",
              "      <th>2881</th>\n",
              "      <td>5.0</td>\n",
              "      <td>0.5</td>\n",
              "    </tr>\n",
              "    <tr>\n",
              "      <th>1073</th>\n",
              "      <td>5.0</td>\n",
              "      <td>0.5</td>\n",
              "    </tr>\n",
              "    <tr>\n",
              "      <th>445</th>\n",
              "      <td>4.0</td>\n",
              "      <td>0.5</td>\n",
              "    </tr>\n",
              "    <tr>\n",
              "      <th>3923</th>\n",
              "      <td>5.0</td>\n",
              "      <td>0.5</td>\n",
              "    </tr>\n",
              "    <tr>\n",
              "      <th>435</th>\n",
              "      <td>5.0</td>\n",
              "      <td>0.5</td>\n",
              "    </tr>\n",
              "    <tr>\n",
              "      <th>2901</th>\n",
              "      <td>5.0</td>\n",
              "      <td>0.5</td>\n",
              "    </tr>\n",
              "    <tr>\n",
              "      <th>2204</th>\n",
              "      <td>2.0</td>\n",
              "      <td>0.5</td>\n",
              "    </tr>\n",
              "    <tr>\n",
              "      <th>2206</th>\n",
              "      <td>5.0</td>\n",
              "      <td>0.5</td>\n",
              "    </tr>\n",
              "    <tr>\n",
              "      <th>3408</th>\n",
              "      <td>5.0</td>\n",
              "      <td>0.5</td>\n",
              "    </tr>\n",
              "  </tbody>\n",
              "</table>\n",
              "</div>"
            ],
            "text/plain": [
              "      overall  score_average_rating\n",
              "4277      5.0                   0.5\n",
              "2881      5.0                   0.5\n",
              "1073      5.0                   0.5\n",
              "445       4.0                   0.5\n",
              "3923      5.0                   0.5\n",
              "435       5.0                   0.5\n",
              "2901      5.0                   0.5\n",
              "2204      2.0                   0.5\n",
              "2206      5.0                   0.5\n",
              "3408      5.0                   0.5"
            ]
          },
          "metadata": {
            "tags": []
          },
          "execution_count": 36
        }
      ]
    },
    {
      "cell_type": "markdown",
      "metadata": {
        "id": "ii4sBMeHi-9B"
      },
      "source": [
        "**Create new scores with Wilson Lower Bound rule**"
      ]
    },
    {
      "cell_type": "markdown",
      "metadata": {
        "id": "WwEGCdBVkngt"
      },
      "source": [
        "![equation.png](data:image/png;base64,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)"
      ]
    },
    {
      "cell_type": "code",
      "metadata": {
        "id": "NXRuIcdOcioZ"
      },
      "source": [
        "def wilson_lower_bound(pos, neg, confidence=0.95):\r\n",
        "    \"\"\"\r\n",
        "    calculates Wilson Lower Bound Score \r\n",
        "    Score = Lower bound of Wilson score confidence interval for a Bernoulli parameter\r\n",
        "    - scores between 1-3 are \"down\", 4-5 are \"up\"\r\n",
        "    Parameters\r\n",
        "    ----------\r\n",
        "    pos: int\r\n",
        "        positive comment number\r\n",
        "    neg: int\r\n",
        "        negative comment number\r\n",
        "    confidence: float\r\n",
        "\r\n",
        "    Returns\r\n",
        "    -------\r\n",
        "    wilson score: float\r\n",
        "\r\n",
        "    \"\"\"\r\n",
        "    n = pos + neg\r\n",
        "    if n == 0:\r\n",
        "        return 0\r\n",
        "    z = st.norm.ppf(1 - (1 - confidence) / 2)\r\n",
        "    phat = 1.0 * pos / n\r\n",
        "    return (phat + z * z / (2 * n) - z * math.sqrt((phat * (1 - phat) + z * z / (4 * n)) / n)) / (1 + z * z / n)"
      ],
      "execution_count": null,
      "outputs": []
    },
    {
      "cell_type": "code",
      "metadata": {
        "id": "RcWlKn_wkDI7"
      },
      "source": [
        "df[\"wilson_lower_bound\"] = df.apply(lambda x: wilson_lower_bound(x['helpful_yes'], x['helpful_no']), axis=1)"
      ],
      "execution_count": null,
      "outputs": []
    },
    {
      "cell_type": "code",
      "metadata": {
        "colab": {
          "base_uri": "https://localhost:8080/",
          "height": 1000
        },
        "id": "1q9ExIUml847",
        "outputId": "d7e98e5e-8109-4302-a6eb-fa26f3bf2188"
      },
      "source": [
        "df.sort_values(by=\"wilson_lower_bound\", ascending=False).head(20)"
      ],
      "execution_count": null,
      "outputs": [
        {
          "output_type": "execute_result",
          "data": {
            "text/html": [
              "<div>\n",
              "<style scoped>\n",
              "    .dataframe tbody tr th:only-of-type {\n",
              "        vertical-align: middle;\n",
              "    }\n",
              "\n",
              "    .dataframe tbody tr th {\n",
              "        vertical-align: top;\n",
              "    }\n",
              "\n",
              "    .dataframe thead th {\n",
              "        text-align: right;\n",
              "    }\n",
              "</style>\n",
              "<table border=\"1\" class=\"dataframe\">\n",
              "  <thead>\n",
              "    <tr style=\"text-align: right;\">\n",
              "      <th></th>\n",
              "      <th>reviewerID</th>\n",
              "      <th>asin</th>\n",
              "      <th>reviewerName</th>\n",
              "      <th>helpful</th>\n",
              "      <th>reviewText</th>\n",
              "      <th>overall</th>\n",
              "      <th>summary</th>\n",
              "      <th>unixReviewTime</th>\n",
              "      <th>reviewTime</th>\n",
              "      <th>day_diff</th>\n",
              "      <th>helpful_yes</th>\n",
              "      <th>helpful_no</th>\n",
              "      <th>total_vote</th>\n",
              "      <th>score_pos_neg_diff</th>\n",
              "      <th>score_average_rating</th>\n",
              "      <th>wilson_lower_bound</th>\n",
              "    </tr>\n",
              "  </thead>\n",
              "  <tbody>\n",
              "    <tr>\n",
              "      <th>2031</th>\n",
              "      <td>A12B7ZMXFI6IXY</td>\n",
              "      <td>B007WTAJTO</td>\n",
              "      <td>Hyoun Kim \"Faluzure\"</td>\n",
              "      <td>[1952,  2020]</td>\n",
              "      <td>[[ UPDATE - 6/19/2014 ]]So my lovely wife boug...</td>\n",
              "      <td>5.0</td>\n",
              "      <td>UPDATED - Great w/ Galaxy S4 &amp; Galaxy Tab 4 10...</td>\n",
              "      <td>1367366400</td>\n",
              "      <td>2013-05-01</td>\n",
              "      <td>2851</td>\n",
              "      <td>1952</td>\n",
              "      <td>68</td>\n",
              "      <td>2020</td>\n",
              "      <td>1884</td>\n",
              "      <td>0.491440</td>\n",
              "      <td>0.957544</td>\n",
              "    </tr>\n",
              "    <tr>\n",
              "      <th>3449</th>\n",
              "      <td>AOEAD7DPLZE53</td>\n",
              "      <td>B007WTAJTO</td>\n",
              "      <td>NLee the Engineer</td>\n",
              "      <td>[1428,  1505]</td>\n",
              "      <td>I have tested dozens of SDHC and micro-SDHC ca...</td>\n",
              "      <td>5.0</td>\n",
              "      <td>Top of the class among all (budget-priced) mic...</td>\n",
              "      <td>1348617600</td>\n",
              "      <td>2012-09-26</td>\n",
              "      <td>3068</td>\n",
              "      <td>1428</td>\n",
              "      <td>77</td>\n",
              "      <td>1505</td>\n",
              "      <td>1351</td>\n",
              "      <td>0.486874</td>\n",
              "      <td>0.936519</td>\n",
              "    </tr>\n",
              "    <tr>\n",
              "      <th>4212</th>\n",
              "      <td>AVBMZZAFEKO58</td>\n",
              "      <td>B007WTAJTO</td>\n",
              "      <td>SkincareCEO</td>\n",
              "      <td>[1568,  1694]</td>\n",
              "      <td>NOTE:  please read the last update (scroll to ...</td>\n",
              "      <td>1.0</td>\n",
              "      <td>1 Star reviews - Micro SDXC card unmounts itse...</td>\n",
              "      <td>1375660800</td>\n",
              "      <td>2013-08-05</td>\n",
              "      <td>2755</td>\n",
              "      <td>1568</td>\n",
              "      <td>126</td>\n",
              "      <td>1694</td>\n",
              "      <td>1442</td>\n",
              "      <td>0.480687</td>\n",
              "      <td>0.912139</td>\n",
              "    </tr>\n",
              "    <tr>\n",
              "      <th>317</th>\n",
              "      <td>A1ZQAQFYSXL5MQ</td>\n",
              "      <td>B007WTAJTO</td>\n",
              "      <td>Amazon Customer \"Kelly\"</td>\n",
              "      <td>[422,  495]</td>\n",
              "      <td>If your card gets hot enough to be painful, it...</td>\n",
              "      <td>1.0</td>\n",
              "      <td>Warning, read this!</td>\n",
              "      <td>1346544000</td>\n",
              "      <td>2012-09-02</td>\n",
              "      <td>3092</td>\n",
              "      <td>422</td>\n",
              "      <td>73</td>\n",
              "      <td>495</td>\n",
              "      <td>349</td>\n",
              "      <td>0.460196</td>\n",
              "      <td>0.818577</td>\n",
              "    </tr>\n",
              "    <tr>\n",
              "      <th>4672</th>\n",
              "      <td>A2DKQQIZ793AV5</td>\n",
              "      <td>B007WTAJTO</td>\n",
              "      <td>Twister</td>\n",
              "      <td>[45,  49]</td>\n",
              "      <td>Sandisk announcement of the first 128GB micro ...</td>\n",
              "      <td>5.0</td>\n",
              "      <td>Super high capacity!!!  Excellent price (on Am...</td>\n",
              "      <td>1394150400</td>\n",
              "      <td>2014-03-07</td>\n",
              "      <td>2541</td>\n",
              "      <td>45</td>\n",
              "      <td>4</td>\n",
              "      <td>49</td>\n",
              "      <td>41</td>\n",
              "      <td>0.478723</td>\n",
              "      <td>0.808109</td>\n",
              "    </tr>\n",
              "    <tr>\n",
              "      <th>1835</th>\n",
              "      <td>A1J6VSUM80UAF8</td>\n",
              "      <td>B007WTAJTO</td>\n",
              "      <td>goconfigure</td>\n",
              "      <td>[60,  68]</td>\n",
              "      <td>Bought from BestBuy online the day it was anno...</td>\n",
              "      <td>5.0</td>\n",
              "      <td>I own it</td>\n",
              "      <td>1393545600</td>\n",
              "      <td>2014-02-28</td>\n",
              "      <td>2548</td>\n",
              "      <td>60</td>\n",
              "      <td>8</td>\n",
              "      <td>68</td>\n",
              "      <td>52</td>\n",
              "      <td>0.468750</td>\n",
              "      <td>0.784651</td>\n",
              "    </tr>\n",
              "    <tr>\n",
              "      <th>3981</th>\n",
              "      <td>A1K91XXQ6ZEBQR</td>\n",
              "      <td>B007WTAJTO</td>\n",
              "      <td>R. Sutton, Jr. \"RWSynergy\"</td>\n",
              "      <td>[112,  139]</td>\n",
              "      <td>The last few days I have been diligently shopp...</td>\n",
              "      <td>5.0</td>\n",
              "      <td>Resolving confusion between \"Mobile Ultra\" and...</td>\n",
              "      <td>1350864000</td>\n",
              "      <td>2012-10-22</td>\n",
              "      <td>3042</td>\n",
              "      <td>112</td>\n",
              "      <td>27</td>\n",
              "      <td>139</td>\n",
              "      <td>85</td>\n",
              "      <td>0.446215</td>\n",
              "      <td>0.732136</td>\n",
              "    </tr>\n",
              "    <tr>\n",
              "      <th>3807</th>\n",
              "      <td>AFGRMORWY2QNX</td>\n",
              "      <td>B007WTAJTO</td>\n",
              "      <td>R. Heisler</td>\n",
              "      <td>[22,  25]</td>\n",
              "      <td>I bought this card to replace a lost 16 gig in...</td>\n",
              "      <td>3.0</td>\n",
              "      <td>Good buy for the money but wait, I had an issue!</td>\n",
              "      <td>1361923200</td>\n",
              "      <td>2013-02-27</td>\n",
              "      <td>2914</td>\n",
              "      <td>22</td>\n",
              "      <td>3</td>\n",
              "      <td>25</td>\n",
              "      <td>19</td>\n",
              "      <td>0.468085</td>\n",
              "      <td>0.700442</td>\n",
              "    </tr>\n",
              "    <tr>\n",
              "      <th>4306</th>\n",
              "      <td>AOHXKM5URSKAB</td>\n",
              "      <td>B007WTAJTO</td>\n",
              "      <td>Stellar Eller</td>\n",
              "      <td>[51,  65]</td>\n",
              "      <td>While I got this card as a \"deal of the day\" o...</td>\n",
              "      <td>5.0</td>\n",
              "      <td>Awesome Card!</td>\n",
              "      <td>1339200000</td>\n",
              "      <td>2012-06-09</td>\n",
              "      <td>3177</td>\n",
              "      <td>51</td>\n",
              "      <td>14</td>\n",
              "      <td>65</td>\n",
              "      <td>37</td>\n",
              "      <td>0.439655</td>\n",
              "      <td>0.670334</td>\n",
              "    </tr>\n",
              "    <tr>\n",
              "      <th>4596</th>\n",
              "      <td>A1WTQUOQ4WG9AI</td>\n",
              "      <td>B007WTAJTO</td>\n",
              "      <td>Tom Henriksen \"Doggy Diner\"</td>\n",
              "      <td>[82,  109]</td>\n",
              "      <td>Hi:I ordered two card and they arrived the nex...</td>\n",
              "      <td>1.0</td>\n",
              "      <td>Designed incompatibility/Don't support SanDisk</td>\n",
              "      <td>1348272000</td>\n",
              "      <td>2012-09-22</td>\n",
              "      <td>3072</td>\n",
              "      <td>82</td>\n",
              "      <td>27</td>\n",
              "      <td>109</td>\n",
              "      <td>55</td>\n",
              "      <td>0.429319</td>\n",
              "      <td>0.663595</td>\n",
              "    </tr>\n",
              "    <tr>\n",
              "      <th>315</th>\n",
              "      <td>A2J26NNQX6WKAU</td>\n",
              "      <td>B007WTAJTO</td>\n",
              "      <td>Amazon Customer \"johncrea\"</td>\n",
              "      <td>[38,  48]</td>\n",
              "      <td>Bought this card to use with my Samsung Galaxy...</td>\n",
              "      <td>5.0</td>\n",
              "      <td>Samsung Galaxy Tab2 works with this card if re...</td>\n",
              "      <td>1344816000</td>\n",
              "      <td>2012-08-13</td>\n",
              "      <td>3112</td>\n",
              "      <td>38</td>\n",
              "      <td>10</td>\n",
              "      <td>48</td>\n",
              "      <td>28</td>\n",
              "      <td>0.441860</td>\n",
              "      <td>0.657411</td>\n",
              "    </tr>\n",
              "    <tr>\n",
              "      <th>1465</th>\n",
              "      <td>A6I8KXYK24RTB</td>\n",
              "      <td>B007WTAJTO</td>\n",
              "      <td>D. Stein</td>\n",
              "      <td>[7,  7]</td>\n",
              "      <td>I for one have not bought into Google's, or an...</td>\n",
              "      <td>4.0</td>\n",
              "      <td>Finally.</td>\n",
              "      <td>1397433600</td>\n",
              "      <td>2014-04-14</td>\n",
              "      <td>2503</td>\n",
              "      <td>7</td>\n",
              "      <td>0</td>\n",
              "      <td>7</td>\n",
              "      <td>7</td>\n",
              "      <td>0.500000</td>\n",
              "      <td>0.645670</td>\n",
              "    </tr>\n",
              "    <tr>\n",
              "      <th>1609</th>\n",
              "      <td>A2TPXOZSU1DACQ</td>\n",
              "      <td>B007WTAJTO</td>\n",
              "      <td>Eskimo</td>\n",
              "      <td>[7,  7]</td>\n",
              "      <td>I have always been a sandisk guy.  This cards ...</td>\n",
              "      <td>5.0</td>\n",
              "      <td>Bet you wish you had one of these</td>\n",
              "      <td>1395792000</td>\n",
              "      <td>2014-03-26</td>\n",
              "      <td>2522</td>\n",
              "      <td>7</td>\n",
              "      <td>0</td>\n",
              "      <td>7</td>\n",
              "      <td>7</td>\n",
              "      <td>0.500000</td>\n",
              "      <td>0.645670</td>\n",
              "    </tr>\n",
              "    <tr>\n",
              "      <th>4302</th>\n",
              "      <td>A2EL2GWJ9T0DWY</td>\n",
              "      <td>B007WTAJTO</td>\n",
              "      <td>Stayeraug</td>\n",
              "      <td>[14,  16]</td>\n",
              "      <td>So I got this SD specifically for my GoPro Bla...</td>\n",
              "      <td>5.0</td>\n",
              "      <td>Perfect with GoPro Black 3+</td>\n",
              "      <td>1395360000</td>\n",
              "      <td>2014-03-21</td>\n",
              "      <td>2527</td>\n",
              "      <td>14</td>\n",
              "      <td>2</td>\n",
              "      <td>16</td>\n",
              "      <td>12</td>\n",
              "      <td>0.466667</td>\n",
              "      <td>0.639772</td>\n",
              "    </tr>\n",
              "    <tr>\n",
              "      <th>4072</th>\n",
              "      <td>A22GOZTFA02O2F</td>\n",
              "      <td>B007WTAJTO</td>\n",
              "      <td>sb21 \"sb21\"</td>\n",
              "      <td>[6,  6]</td>\n",
              "      <td>I used this for my Samsung Galaxy Tab 2 7.0 . ...</td>\n",
              "      <td>5.0</td>\n",
              "      <td>Used for my Samsung Galaxy Tab 2 7.0</td>\n",
              "      <td>1347321600</td>\n",
              "      <td>2012-09-11</td>\n",
              "      <td>3083</td>\n",
              "      <td>6</td>\n",
              "      <td>0</td>\n",
              "      <td>6</td>\n",
              "      <td>6</td>\n",
              "      <td>0.500000</td>\n",
              "      <td>0.609666</td>\n",
              "    </tr>\n",
              "    <tr>\n",
              "      <th>1072</th>\n",
              "      <td>A2O96COBMVY9C4</td>\n",
              "      <td>B007WTAJTO</td>\n",
              "      <td>Crysis Complex</td>\n",
              "      <td>[5,  5]</td>\n",
              "      <td>What more can I say? The 64GB micro SD works f...</td>\n",
              "      <td>5.0</td>\n",
              "      <td>Works wonders for the Galaxy Note 2!</td>\n",
              "      <td>1349395200</td>\n",
              "      <td>2012-10-05</td>\n",
              "      <td>3059</td>\n",
              "      <td>5</td>\n",
              "      <td>0</td>\n",
              "      <td>5</td>\n",
              "      <td>5</td>\n",
              "      <td>0.500000</td>\n",
              "      <td>0.565518</td>\n",
              "    </tr>\n",
              "    <tr>\n",
              "      <th>2583</th>\n",
              "      <td>A3MEPYZVTAV90W</td>\n",
              "      <td>B007WTAJTO</td>\n",
              "      <td>J. Wong</td>\n",
              "      <td>[5,  5]</td>\n",
              "      <td>I bought this Class 10 SD card for my GoPro 3 ...</td>\n",
              "      <td>5.0</td>\n",
              "      <td>Works Great with a GoPro 3 Black!</td>\n",
              "      <td>1370649600</td>\n",
              "      <td>2013-06-08</td>\n",
              "      <td>2813</td>\n",
              "      <td>5</td>\n",
              "      <td>0</td>\n",
              "      <td>5</td>\n",
              "      <td>5</td>\n",
              "      <td>0.500000</td>\n",
              "      <td>0.565518</td>\n",
              "    </tr>\n",
              "    <tr>\n",
              "      <th>121</th>\n",
              "      <td>A2Z4VVF1NTJWPB</td>\n",
              "      <td>B007WTAJTO</td>\n",
              "      <td>A. Lee</td>\n",
              "      <td>[5,  5]</td>\n",
              "      <td>Update: providing an update with regard to San...</td>\n",
              "      <td>5.0</td>\n",
              "      <td>ready for use on the Galaxy S3</td>\n",
              "      <td>1346803200</td>\n",
              "      <td>2012-09-05</td>\n",
              "      <td>3089</td>\n",
              "      <td>5</td>\n",
              "      <td>0</td>\n",
              "      <td>5</td>\n",
              "      <td>5</td>\n",
              "      <td>0.500000</td>\n",
              "      <td>0.565518</td>\n",
              "    </tr>\n",
              "    <tr>\n",
              "      <th>1142</th>\n",
              "      <td>A1PLHPPAJ5MUXG</td>\n",
              "      <td>B007WTAJTO</td>\n",
              "      <td>Daniel Pham(Danpham_X @ yahoo.  com)</td>\n",
              "      <td>[5,  5]</td>\n",
              "      <td>As soon as I saw that this card was announced ...</td>\n",
              "      <td>5.0</td>\n",
              "      <td>Great large capacity card</td>\n",
              "      <td>1396396800</td>\n",
              "      <td>2014-04-02</td>\n",
              "      <td>2515</td>\n",
              "      <td>5</td>\n",
              "      <td>0</td>\n",
              "      <td>5</td>\n",
              "      <td>5</td>\n",
              "      <td>0.500000</td>\n",
              "      <td>0.565518</td>\n",
              "    </tr>\n",
              "    <tr>\n",
              "      <th>1753</th>\n",
              "      <td>ALPLKR59QMBUX</td>\n",
              "      <td>B007WTAJTO</td>\n",
              "      <td>G. Becker</td>\n",
              "      <td>[5,  5]</td>\n",
              "      <td>Puchased this card right after I received my S...</td>\n",
              "      <td>5.0</td>\n",
              "      <td>Use Nothing Other Than the Best</td>\n",
              "      <td>1350864000</td>\n",
              "      <td>2012-10-22</td>\n",
              "      <td>3042</td>\n",
              "      <td>5</td>\n",
              "      <td>0</td>\n",
              "      <td>5</td>\n",
              "      <td>5</td>\n",
              "      <td>0.500000</td>\n",
              "      <td>0.565518</td>\n",
              "    </tr>\n",
              "  </tbody>\n",
              "</table>\n",
              "</div>"
            ],
            "text/plain": [
              "          reviewerID        asin  ... score_average_rating wilson_lower_bound\n",
              "2031  A12B7ZMXFI6IXY  B007WTAJTO  ...             0.491440           0.957544\n",
              "3449   AOEAD7DPLZE53  B007WTAJTO  ...             0.486874           0.936519\n",
              "4212   AVBMZZAFEKO58  B007WTAJTO  ...             0.480687           0.912139\n",
              "317   A1ZQAQFYSXL5MQ  B007WTAJTO  ...             0.460196           0.818577\n",
              "4672  A2DKQQIZ793AV5  B007WTAJTO  ...             0.478723           0.808109\n",
              "1835  A1J6VSUM80UAF8  B007WTAJTO  ...             0.468750           0.784651\n",
              "3981  A1K91XXQ6ZEBQR  B007WTAJTO  ...             0.446215           0.732136\n",
              "3807   AFGRMORWY2QNX  B007WTAJTO  ...             0.468085           0.700442\n",
              "4306   AOHXKM5URSKAB  B007WTAJTO  ...             0.439655           0.670334\n",
              "4596  A1WTQUOQ4WG9AI  B007WTAJTO  ...             0.429319           0.663595\n",
              "315   A2J26NNQX6WKAU  B007WTAJTO  ...             0.441860           0.657411\n",
              "1465   A6I8KXYK24RTB  B007WTAJTO  ...             0.500000           0.645670\n",
              "1609  A2TPXOZSU1DACQ  B007WTAJTO  ...             0.500000           0.645670\n",
              "4302  A2EL2GWJ9T0DWY  B007WTAJTO  ...             0.466667           0.639772\n",
              "4072  A22GOZTFA02O2F  B007WTAJTO  ...             0.500000           0.609666\n",
              "1072  A2O96COBMVY9C4  B007WTAJTO  ...             0.500000           0.565518\n",
              "2583  A3MEPYZVTAV90W  B007WTAJTO  ...             0.500000           0.565518\n",
              "121   A2Z4VVF1NTJWPB  B007WTAJTO  ...             0.500000           0.565518\n",
              "1142  A1PLHPPAJ5MUXG  B007WTAJTO  ...             0.500000           0.565518\n",
              "1753   ALPLKR59QMBUX  B007WTAJTO  ...             0.500000           0.565518\n",
              "\n",
              "[20 rows x 16 columns]"
            ]
          },
          "metadata": {
            "tags": []
          },
          "execution_count": 43
        }
      ]
    },
    {
      "cell_type": "code",
      "metadata": {
        "colab": {
          "base_uri": "https://localhost:8080/",
          "height": 669
        },
        "id": "RZfzWTjKk5eo",
        "outputId": "1e01bd81-6496-400d-c900-338a2e678dee"
      },
      "source": [
        "df[['helpful', 'score_pos_neg_diff', 'overall', 'score_average_rating', 'wilson_lower_bound']].sort_values(\r\n",
        "    by=\"wilson_lower_bound\", ascending=False).head(20)"
      ],
      "execution_count": null,
      "outputs": [
        {
          "output_type": "execute_result",
          "data": {
            "text/html": [
              "<div>\n",
              "<style scoped>\n",
              "    .dataframe tbody tr th:only-of-type {\n",
              "        vertical-align: middle;\n",
              "    }\n",
              "\n",
              "    .dataframe tbody tr th {\n",
              "        vertical-align: top;\n",
              "    }\n",
              "\n",
              "    .dataframe thead th {\n",
              "        text-align: right;\n",
              "    }\n",
              "</style>\n",
              "<table border=\"1\" class=\"dataframe\">\n",
              "  <thead>\n",
              "    <tr style=\"text-align: right;\">\n",
              "      <th></th>\n",
              "      <th>helpful</th>\n",
              "      <th>score_pos_neg_diff</th>\n",
              "      <th>overall</th>\n",
              "      <th>score_average_rating</th>\n",
              "      <th>wilson_lower_bound</th>\n",
              "    </tr>\n",
              "  </thead>\n",
              "  <tbody>\n",
              "    <tr>\n",
              "      <th>2031</th>\n",
              "      <td>[1952,  2020]</td>\n",
              "      <td>1884</td>\n",
              "      <td>5.0</td>\n",
              "      <td>0.491440</td>\n",
              "      <td>0.957544</td>\n",
              "    </tr>\n",
              "    <tr>\n",
              "      <th>3449</th>\n",
              "      <td>[1428,  1505]</td>\n",
              "      <td>1351</td>\n",
              "      <td>5.0</td>\n",
              "      <td>0.486874</td>\n",
              "      <td>0.936519</td>\n",
              "    </tr>\n",
              "    <tr>\n",
              "      <th>4212</th>\n",
              "      <td>[1568,  1694]</td>\n",
              "      <td>1442</td>\n",
              "      <td>1.0</td>\n",
              "      <td>0.480687</td>\n",
              "      <td>0.912139</td>\n",
              "    </tr>\n",
              "    <tr>\n",
              "      <th>317</th>\n",
              "      <td>[422,  495]</td>\n",
              "      <td>349</td>\n",
              "      <td>1.0</td>\n",
              "      <td>0.460196</td>\n",
              "      <td>0.818577</td>\n",
              "    </tr>\n",
              "    <tr>\n",
              "      <th>4672</th>\n",
              "      <td>[45,  49]</td>\n",
              "      <td>41</td>\n",
              "      <td>5.0</td>\n",
              "      <td>0.478723</td>\n",
              "      <td>0.808109</td>\n",
              "    </tr>\n",
              "    <tr>\n",
              "      <th>1835</th>\n",
              "      <td>[60,  68]</td>\n",
              "      <td>52</td>\n",
              "      <td>5.0</td>\n",
              "      <td>0.468750</td>\n",
              "      <td>0.784651</td>\n",
              "    </tr>\n",
              "    <tr>\n",
              "      <th>3981</th>\n",
              "      <td>[112,  139]</td>\n",
              "      <td>85</td>\n",
              "      <td>5.0</td>\n",
              "      <td>0.446215</td>\n",
              "      <td>0.732136</td>\n",
              "    </tr>\n",
              "    <tr>\n",
              "      <th>3807</th>\n",
              "      <td>[22,  25]</td>\n",
              "      <td>19</td>\n",
              "      <td>3.0</td>\n",
              "      <td>0.468085</td>\n",
              "      <td>0.700442</td>\n",
              "    </tr>\n",
              "    <tr>\n",
              "      <th>4306</th>\n",
              "      <td>[51,  65]</td>\n",
              "      <td>37</td>\n",
              "      <td>5.0</td>\n",
              "      <td>0.439655</td>\n",
              "      <td>0.670334</td>\n",
              "    </tr>\n",
              "    <tr>\n",
              "      <th>4596</th>\n",
              "      <td>[82,  109]</td>\n",
              "      <td>55</td>\n",
              "      <td>1.0</td>\n",
              "      <td>0.429319</td>\n",
              "      <td>0.663595</td>\n",
              "    </tr>\n",
              "    <tr>\n",
              "      <th>315</th>\n",
              "      <td>[38,  48]</td>\n",
              "      <td>28</td>\n",
              "      <td>5.0</td>\n",
              "      <td>0.441860</td>\n",
              "      <td>0.657411</td>\n",
              "    </tr>\n",
              "    <tr>\n",
              "      <th>1465</th>\n",
              "      <td>[7,  7]</td>\n",
              "      <td>7</td>\n",
              "      <td>4.0</td>\n",
              "      <td>0.500000</td>\n",
              "      <td>0.645670</td>\n",
              "    </tr>\n",
              "    <tr>\n",
              "      <th>1609</th>\n",
              "      <td>[7,  7]</td>\n",
              "      <td>7</td>\n",
              "      <td>5.0</td>\n",
              "      <td>0.500000</td>\n",
              "      <td>0.645670</td>\n",
              "    </tr>\n",
              "    <tr>\n",
              "      <th>4302</th>\n",
              "      <td>[14,  16]</td>\n",
              "      <td>12</td>\n",
              "      <td>5.0</td>\n",
              "      <td>0.466667</td>\n",
              "      <td>0.639772</td>\n",
              "    </tr>\n",
              "    <tr>\n",
              "      <th>4072</th>\n",
              "      <td>[6,  6]</td>\n",
              "      <td>6</td>\n",
              "      <td>5.0</td>\n",
              "      <td>0.500000</td>\n",
              "      <td>0.609666</td>\n",
              "    </tr>\n",
              "    <tr>\n",
              "      <th>1072</th>\n",
              "      <td>[5,  5]</td>\n",
              "      <td>5</td>\n",
              "      <td>5.0</td>\n",
              "      <td>0.500000</td>\n",
              "      <td>0.565518</td>\n",
              "    </tr>\n",
              "    <tr>\n",
              "      <th>2583</th>\n",
              "      <td>[5,  5]</td>\n",
              "      <td>5</td>\n",
              "      <td>5.0</td>\n",
              "      <td>0.500000</td>\n",
              "      <td>0.565518</td>\n",
              "    </tr>\n",
              "    <tr>\n",
              "      <th>121</th>\n",
              "      <td>[5,  5]</td>\n",
              "      <td>5</td>\n",
              "      <td>5.0</td>\n",
              "      <td>0.500000</td>\n",
              "      <td>0.565518</td>\n",
              "    </tr>\n",
              "    <tr>\n",
              "      <th>1142</th>\n",
              "      <td>[5,  5]</td>\n",
              "      <td>5</td>\n",
              "      <td>5.0</td>\n",
              "      <td>0.500000</td>\n",
              "      <td>0.565518</td>\n",
              "    </tr>\n",
              "    <tr>\n",
              "      <th>1753</th>\n",
              "      <td>[5,  5]</td>\n",
              "      <td>5</td>\n",
              "      <td>5.0</td>\n",
              "      <td>0.500000</td>\n",
              "      <td>0.565518</td>\n",
              "    </tr>\n",
              "  </tbody>\n",
              "</table>\n",
              "</div>"
            ],
            "text/plain": [
              "            helpful  ...  wilson_lower_bound\n",
              "2031  [1952,  2020]  ...            0.957544\n",
              "3449  [1428,  1505]  ...            0.936519\n",
              "4212  [1568,  1694]  ...            0.912139\n",
              "317     [422,  495]  ...            0.818577\n",
              "4672      [45,  49]  ...            0.808109\n",
              "1835      [60,  68]  ...            0.784651\n",
              "3981    [112,  139]  ...            0.732136\n",
              "3807      [22,  25]  ...            0.700442\n",
              "4306      [51,  65]  ...            0.670334\n",
              "4596     [82,  109]  ...            0.663595\n",
              "315       [38,  48]  ...            0.657411\n",
              "1465        [7,  7]  ...            0.645670\n",
              "1609        [7,  7]  ...            0.645670\n",
              "4302      [14,  16]  ...            0.639772\n",
              "4072        [6,  6]  ...            0.609666\n",
              "1072        [5,  5]  ...            0.565518\n",
              "2583        [5,  5]  ...            0.565518\n",
              "121         [5,  5]  ...            0.565518\n",
              "1142        [5,  5]  ...            0.565518\n",
              "1753        [5,  5]  ...            0.565518\n",
              "\n",
              "[20 rows x 5 columns]"
            ]
          },
          "metadata": {
            "tags": []
          },
          "execution_count": 42
        }
      ]
    },
    {
      "cell_type": "code",
      "metadata": {
        "id": "5E-AUnYXlYVt"
      },
      "source": [
        ""
      ],
      "execution_count": null,
      "outputs": []
    }
  ]
}